{
  "nbformat": 4,
  "nbformat_minor": 0,
  "metadata": {
    "colab": {
      "name": "Vine_Review_Analysis.ipynb",
      "provenance": [],
      "collapsed_sections": []
    },
    "kernelspec": {
      "display_name": "PythonData",
      "language": "python",
      "name": "pythondata"
    },
    "language_info": {
      "codemirror_mode": {
        "name": "ipython",
        "version": 3
      },
      "file_extension": ".py",
      "mimetype": "text/x-python",
      "name": "python",
      "nbconvert_exporter": "python",
      "pygments_lexer": "ipython3",
      "version": "3.7.7"
    },
    "nteract": {
      "version": "0.12.3"
    }
  },
  "cells": [
    {
      "cell_type": "code",
      "metadata": {
        "id": "V58rxea0HqSa",
        "colab": {
          "base_uri": "https://localhost:8080/"
        },
        "outputId": "ecf1f789-2f1d-4161-d57d-f1317be7706c"
      },
      "source": [
        "import os\n",
        "# Find the latest version of spark 2.0  from http://www-us.apache.org/dist/spark/ and enter as the spark version\n",
        "# For example:\n",
        "# spark_version = 'spark-3.0.0'\n",
        "spark_version = 'spark-3.0.2'\n",
        "os.environ['SPARK_VERSION']=spark_version\n",
        "\n",
        "# Install Spark and Java\n",
        "!apt-get update\n",
        "!apt-get install openjdk-11-jdk-headless -qq > /dev/null\n",
        "!wget -q http://www-us.apache.org/dist/spark/$SPARK_VERSION/$SPARK_VERSION-bin-hadoop2.7.tgz\n",
        "!tar xf $SPARK_VERSION-bin-hadoop2.7.tgz\n",
        "!pip install -q findspark\n",
        "\n",
        "# Set Environment Variables\n",
        "import os\n",
        "os.environ[\"JAVA_HOME\"] = \"/usr/lib/jvm/java-11-openjdk-amd64\"\n",
        "os.environ[\"SPARK_HOME\"] = f\"/content/{spark_version}-bin-hadoop2.7\"\n",
        "\n",
        "# Start a SparkSession\n",
        "import findspark\n",
        "findspark.init()"
      ],
      "execution_count": 1,
      "outputs": [
        {
          "output_type": "stream",
          "text": [
            "\r0% [Working]\r            \rIgn:1 https://developer.download.nvidia.com/compute/cuda/repos/ubuntu1804/x86_64  InRelease\n",
            "\r0% [Connecting to archive.ubuntu.com (91.189.88.152)] [Connecting to security.u\r                                                                               \rGet:2 https://cloud.r-project.org/bin/linux/ubuntu bionic-cran40/ InRelease [3,626 B]\n",
            "\r0% [Connecting to archive.ubuntu.com (91.189.88.152)] [Connecting to security.u\r0% [Connecting to archive.ubuntu.com (91.189.88.152)] [Connecting to security.u\r                                                                               \rIgn:3 https://developer.download.nvidia.com/compute/machine-learning/repos/ubuntu1804/x86_64  InRelease\n",
            "\r0% [Connecting to archive.ubuntu.com (91.189.88.152)] [Connecting to security.u\r0% [2 InRelease gpgv 3,626 B] [Connecting to archive.ubuntu.com (91.189.88.152)\r                                                                               \rGet:4 https://developer.download.nvidia.com/compute/cuda/repos/ubuntu1804/x86_64  Release [697 B]\n",
            "\r0% [2 InRelease gpgv 3,626 B] [Connecting to archive.ubuntu.com (91.189.88.152)\r0% [2 InRelease gpgv 3,626 B] [Connecting to archive.ubuntu.com (91.189.88.152)\r                                                                               \rHit:5 https://developer.download.nvidia.com/compute/machine-learning/repos/ubuntu1804/x86_64  Release\n",
            "Get:6 https://developer.download.nvidia.com/compute/cuda/repos/ubuntu1804/x86_64  Release.gpg [836 B]\n",
            "Get:7 http://security.ubuntu.com/ubuntu bionic-security InRelease [88.7 kB]\n",
            "Hit:8 http://archive.ubuntu.com/ubuntu bionic InRelease\n",
            "Get:9 http://ppa.launchpad.net/c2d4u.team/c2d4u4.0+/ubuntu bionic InRelease [15.9 kB]\n",
            "Get:10 https://cloud.r-project.org/bin/linux/ubuntu bionic-cran40/ Packages [60.9 kB]\n",
            "Get:11 http://archive.ubuntu.com/ubuntu bionic-updates InRelease [88.7 kB]\n",
            "Ign:13 https://developer.download.nvidia.com/compute/cuda/repos/ubuntu1804/x86_64  Packages\n",
            "Get:13 https://developer.download.nvidia.com/compute/cuda/repos/ubuntu1804/x86_64  Packages [798 kB]\n",
            "Hit:14 http://ppa.launchpad.net/cran/libgit2/ubuntu bionic InRelease\n",
            "Get:15 http://archive.ubuntu.com/ubuntu bionic-backports InRelease [74.6 kB]\n",
            "Hit:16 http://ppa.launchpad.net/deadsnakes/ppa/ubuntu bionic InRelease\n",
            "Get:17 http://security.ubuntu.com/ubuntu bionic-security/universe amd64 Packages [1,413 kB]\n",
            "Get:18 http://ppa.launchpad.net/graphics-drivers/ppa/ubuntu bionic InRelease [21.3 kB]\n",
            "Get:19 http://security.ubuntu.com/ubuntu bionic-security/restricted amd64 Packages [423 kB]\n",
            "Get:20 http://security.ubuntu.com/ubuntu bionic-security/main amd64 Packages [2,152 kB]\n",
            "Get:21 http://ppa.launchpad.net/c2d4u.team/c2d4u4.0+/ubuntu bionic/main Sources [1,769 kB]\n",
            "Get:22 http://archive.ubuntu.com/ubuntu bionic-updates/main amd64 Packages [2,584 kB]\n",
            "Get:23 http://archive.ubuntu.com/ubuntu bionic-updates/restricted amd64 Packages [452 kB]\n",
            "Get:24 http://archive.ubuntu.com/ubuntu bionic-updates/universe amd64 Packages [2,184 kB]\n",
            "Get:25 http://ppa.launchpad.net/c2d4u.team/c2d4u4.0+/ubuntu bionic/main amd64 Packages [905 kB]\n",
            "Get:26 http://ppa.launchpad.net/graphics-drivers/ppa/ubuntu bionic/main amd64 Packages [41.5 kB]\n",
            "Fetched 13.1 MB in 4s (3,059 kB/s)\n",
            "Reading package lists... Done\n"
          ],
          "name": "stdout"
        }
      ]
    },
    {
      "cell_type": "code",
      "metadata": {
        "id": "_xKwTpATHqSe",
        "colab": {
          "base_uri": "https://localhost:8080/"
        },
        "outputId": "d53fd081-53bb-4fe4-a221-7b53dffaa718"
      },
      "source": [
        "# Download the Postgres driver that will allow Spark to interact with Postgres.\n",
        "!wget https://jdbc.postgresql.org/download/postgresql-42.2.16.jar"
      ],
      "execution_count": 2,
      "outputs": [
        {
          "output_type": "stream",
          "text": [
            "--2021-05-27 00:35:40--  https://jdbc.postgresql.org/download/postgresql-42.2.16.jar\n",
            "Resolving jdbc.postgresql.org (jdbc.postgresql.org)... 72.32.157.228, 2001:4800:3e1:1::228\n",
            "Connecting to jdbc.postgresql.org (jdbc.postgresql.org)|72.32.157.228|:443... connected.\n",
            "HTTP request sent, awaiting response... 200 OK\n",
            "Length: 1002883 (979K) [application/java-archive]\n",
            "Saving to: ‘postgresql-42.2.16.jar’\n",
            "\n",
            "postgresql-42.2.16. 100%[===================>] 979.38K  6.04MB/s    in 0.2s    \n",
            "\n",
            "2021-05-27 00:35:40 (6.04 MB/s) - ‘postgresql-42.2.16.jar’ saved [1002883/1002883]\n",
            "\n"
          ],
          "name": "stdout"
        }
      ]
    },
    {
      "cell_type": "code",
      "metadata": {
        "id": "MMqDAjVS0KN9"
      },
      "source": [
        "from pyspark.sql import SparkSession\n",
        "spark = SparkSession.builder.appName(\"BigData-Challenge\").config(\"spark.driver.extraClassPath\",\"/content/postgresql-42.2.16.jar\").getOrCreate()"
      ],
      "execution_count": 3,
      "outputs": []
    },
    {
      "cell_type": "markdown",
      "metadata": {
        "id": "cyBsySGuY-9V"
      },
      "source": [
        "### Load Amazon Data into Spark DataFrame"
      ]
    },
    {
      "cell_type": "code",
      "metadata": {
        "id": "CtCmBhQJY-9Z",
        "colab": {
          "base_uri": "https://localhost:8080/"
        },
        "outputId": "51179675-eb30-4a7e-b0ec-2ae123e199ca"
      },
      "source": [
        "from pyspark import SparkFiles\n",
        "url = \"https://s3.amazonaws.com/amazon-reviews-pds/tsv/amazon_reviews_us_Shoes_v1_00.tsv.gz\"\n",
        "spark.sparkContext.addFile(url)\n",
        "df = spark.read.option(\"encoding\", \"UTF-8\").csv(SparkFiles.get(\"\"), sep=\"\\t\", header=True, inferSchema=True)\n",
        "df.show()"
      ],
      "execution_count": 4,
      "outputs": [
        {
          "output_type": "stream",
          "text": [
            "+-----------+-----------+--------------+----------+--------------+--------------------+----------------+-----------+-------------+-----------+----+-----------------+--------------------+--------------------+-----------+\n",
            "|marketplace|customer_id|     review_id|product_id|product_parent|       product_title|product_category|star_rating|helpful_votes|total_votes|vine|verified_purchase|     review_headline|         review_body|review_date|\n",
            "+-----------+-----------+--------------+----------+--------------+--------------------+----------------+-----------+-------------+-----------+----+-----------------+--------------------+--------------------+-----------+\n",
            "|         US|   18069663|R3P2HIOQCIN5ZU|B000XB31C0|     265024781|Minnetonka Men's ...|           Shoes|          1|            0|          0|   N|                Y|                   .|Do not buy: reall...| 2015-08-31|\n",
            "|         US|   16251825|R12VVR0WH5Q24V|B00CFYZH5W|     259035853|Teva Men's Pajaro...|           Shoes|          5|            0|          0|   N|                Y|     super flip flop|provides great cu...| 2015-08-31|\n",
            "|         US|   20381037| RNCCKB6TV5EEF|B00S8JNN3Q|     666066660|Anne Klein Perfec...|           Shoes|          4|            0|          0|   N|                Y| Great clutch purse!|It's perfect if y...| 2015-08-31|\n",
            "|         US|     108364|R2NZXYIVCGB13W|B00XFBPOQG|     448483263|adidas Men's 10K ...|           Shoes|          5|            0|          6|   N|                Y|              Badass|  Getting what u see| 2015-08-31|\n",
            "|         US|   45449350|R2EQ1TG9IT3OEQ|B00SW64Y9W|       7853171|OverBling Sneaker...|           Shoes|          3|            0|          0|   N|                Y|         Three Stars|               small| 2015-08-31|\n",
            "|         US|   19324665|R1WXA9JSC2H1U1|B011F9E6LI|      14311457|MESSI 15.3 FG/AG ...|           Shoes|          5|            1|          1|   N|                Y|          Five Stars|My 13 year old so...| 2015-08-31|\n",
            "|         US|   50073594|R12ENYLFGGNWRV|B00HAUP1OI|     264821602|Hoka One One Men'...|           Shoes|          5|            1|          1|   N|                Y|Finally, some cus...|Ok, I have been s...| 2015-08-31|\n",
            "|         US|   21706057|R2R07E5PNXEUO5|B00L1RKOKW|     767118055|Olukai Nohea Mesh...|           Shoes|          4|            0|          0|   N|                Y|good deal, but ha...|I went a full siz...| 2015-08-31|\n",
            "|         US|   13708216|R27BA52AKWMWN3|B005WA9MSE|     813856438|Carolina Mens 6\" ...|           Shoes|          5|            0|          0|   N|                Y|... would have to...|I would have to s...| 2015-08-31|\n",
            "|         US|   40542649| RLF8DOID2KD5O|B00BEYQI5C|     661491213|Alegria Women's S...|           Shoes|          3|            0|          0|   N|                Y|           Too small|The size is misle...| 2015-08-31|\n",
            "|         US|   13409446|R369CEXHXHC6NQ|B00EYAFTCQ|     332158165|Naturalizer Women...|           Shoes|          5|            0|          0|   N|                Y|          Five Stars|These shoes are v...| 2015-08-31|\n",
            "|         US|    9451727|R171PPIJXFONVI|B00I0QHY32|      49243908|Forever Link Wome...|           Shoes|          5|            0|          0|   N|                Y|          Five Stars|I love these sand...| 2015-08-31|\n",
            "|         US|     193731|R2JDNM8F2P06FU|B010FZZKYA|     161497902|Versace Collectio...|           Shoes|          4|            1|          1|   N|                Y|          Four Stars|Good quality shoe...| 2015-08-31|\n",
            "|         US|   34798634|R2W977FO4M97XT|B00V8B30K2|     759958795|Twisted Girl's Ch...|           Shoes|          5|            0|          1|   N|                Y|Good shoes, comfo...|My daughter reall...| 2015-08-31|\n",
            "|         US|   37235551|R3AM24QPLI28UY|B00LAVB1TC|     910150896|Travel Smart Hand...|           Shoes|          2|            1|          2|   N|                Y|           Two Stars|         It's okay .| 2015-08-31|\n",
            "|         US|   27081399| REDVXSFYVNT5T|B003C1P8B0|     762792587|Saucony Originals...|           Shoes|          5|            0|          0|   N|                Y|    Love these shoes|Love these shoes!...| 2015-08-31|\n",
            "|         US|     120678|R14AIIK7D6ENDZ|B000W3UL7W|     123724495|Dr. Marten's Wome...|           Shoes|          5|            0|          0|   N|                Y|          Five Stars|                Good| 2015-08-31|\n",
            "|         US|   22272389|R3B1NURKMCVAL1|B00LX65PQO|     848850234|Skechers Performa...|           Shoes|          3|            2|          2|   N|                Y|         Three Stars|I like the go wal...| 2015-08-31|\n",
            "|         US|   19584241|R14Q1GZGV10IMX|B00BEE7N3I|     211637196|Hi-Tec Kid's Nepa...|           Shoes|          4|            0|          0|   N|                Y|          Four Stars|Kids love them fo...| 2015-08-31|\n",
            "|         US|   12334573| R9BHBB06QD6TM|B008NCHMBW|     138572112|Foot Sox Original...|           Shoes|          1|            2|          2|   N|                Y|Tissue paper is t...|Tissue paper is t...| 2015-08-31|\n",
            "+-----------+-----------+--------------+----------+--------------+--------------------+----------------+-----------+-------------+-----------+----+-----------------+--------------------+--------------------+-----------+\n",
            "only showing top 20 rows\n",
            "\n"
          ],
          "name": "stdout"
        }
      ]
    },
    {
      "cell_type": "markdown",
      "metadata": {
        "id": "2yUSe55VY-9t"
      },
      "source": [
        "### Create DataFrames to match tables"
      ]
    },
    {
      "cell_type": "code",
      "metadata": {
        "id": "C8REmY1aY-9u",
        "colab": {
          "base_uri": "https://localhost:8080/"
        },
        "outputId": "a1707b10-a3e6-4c67-8afc-257b4f402724"
      },
      "source": [
        "from pyspark.sql.functions import to_date\n",
        "# Read in the Review dataset as a DataFrame\n",
        "df.show()"
      ],
      "execution_count": 5,
      "outputs": [
        {
          "output_type": "stream",
          "text": [
            "+-----------+-----------+--------------+----------+--------------+--------------------+----------------+-----------+-------------+-----------+----+-----------------+--------------------+--------------------+-----------+\n",
            "|marketplace|customer_id|     review_id|product_id|product_parent|       product_title|product_category|star_rating|helpful_votes|total_votes|vine|verified_purchase|     review_headline|         review_body|review_date|\n",
            "+-----------+-----------+--------------+----------+--------------+--------------------+----------------+-----------+-------------+-----------+----+-----------------+--------------------+--------------------+-----------+\n",
            "|         US|   18069663|R3P2HIOQCIN5ZU|B000XB31C0|     265024781|Minnetonka Men's ...|           Shoes|          1|            0|          0|   N|                Y|                   .|Do not buy: reall...| 2015-08-31|\n",
            "|         US|   16251825|R12VVR0WH5Q24V|B00CFYZH5W|     259035853|Teva Men's Pajaro...|           Shoes|          5|            0|          0|   N|                Y|     super flip flop|provides great cu...| 2015-08-31|\n",
            "|         US|   20381037| RNCCKB6TV5EEF|B00S8JNN3Q|     666066660|Anne Klein Perfec...|           Shoes|          4|            0|          0|   N|                Y| Great clutch purse!|It's perfect if y...| 2015-08-31|\n",
            "|         US|     108364|R2NZXYIVCGB13W|B00XFBPOQG|     448483263|adidas Men's 10K ...|           Shoes|          5|            0|          6|   N|                Y|              Badass|  Getting what u see| 2015-08-31|\n",
            "|         US|   45449350|R2EQ1TG9IT3OEQ|B00SW64Y9W|       7853171|OverBling Sneaker...|           Shoes|          3|            0|          0|   N|                Y|         Three Stars|               small| 2015-08-31|\n",
            "|         US|   19324665|R1WXA9JSC2H1U1|B011F9E6LI|      14311457|MESSI 15.3 FG/AG ...|           Shoes|          5|            1|          1|   N|                Y|          Five Stars|My 13 year old so...| 2015-08-31|\n",
            "|         US|   50073594|R12ENYLFGGNWRV|B00HAUP1OI|     264821602|Hoka One One Men'...|           Shoes|          5|            1|          1|   N|                Y|Finally, some cus...|Ok, I have been s...| 2015-08-31|\n",
            "|         US|   21706057|R2R07E5PNXEUO5|B00L1RKOKW|     767118055|Olukai Nohea Mesh...|           Shoes|          4|            0|          0|   N|                Y|good deal, but ha...|I went a full siz...| 2015-08-31|\n",
            "|         US|   13708216|R27BA52AKWMWN3|B005WA9MSE|     813856438|Carolina Mens 6\" ...|           Shoes|          5|            0|          0|   N|                Y|... would have to...|I would have to s...| 2015-08-31|\n",
            "|         US|   40542649| RLF8DOID2KD5O|B00BEYQI5C|     661491213|Alegria Women's S...|           Shoes|          3|            0|          0|   N|                Y|           Too small|The size is misle...| 2015-08-31|\n",
            "|         US|   13409446|R369CEXHXHC6NQ|B00EYAFTCQ|     332158165|Naturalizer Women...|           Shoes|          5|            0|          0|   N|                Y|          Five Stars|These shoes are v...| 2015-08-31|\n",
            "|         US|    9451727|R171PPIJXFONVI|B00I0QHY32|      49243908|Forever Link Wome...|           Shoes|          5|            0|          0|   N|                Y|          Five Stars|I love these sand...| 2015-08-31|\n",
            "|         US|     193731|R2JDNM8F2P06FU|B010FZZKYA|     161497902|Versace Collectio...|           Shoes|          4|            1|          1|   N|                Y|          Four Stars|Good quality shoe...| 2015-08-31|\n",
            "|         US|   34798634|R2W977FO4M97XT|B00V8B30K2|     759958795|Twisted Girl's Ch...|           Shoes|          5|            0|          1|   N|                Y|Good shoes, comfo...|My daughter reall...| 2015-08-31|\n",
            "|         US|   37235551|R3AM24QPLI28UY|B00LAVB1TC|     910150896|Travel Smart Hand...|           Shoes|          2|            1|          2|   N|                Y|           Two Stars|         It's okay .| 2015-08-31|\n",
            "|         US|   27081399| REDVXSFYVNT5T|B003C1P8B0|     762792587|Saucony Originals...|           Shoes|          5|            0|          0|   N|                Y|    Love these shoes|Love these shoes!...| 2015-08-31|\n",
            "|         US|     120678|R14AIIK7D6ENDZ|B000W3UL7W|     123724495|Dr. Marten's Wome...|           Shoes|          5|            0|          0|   N|                Y|          Five Stars|                Good| 2015-08-31|\n",
            "|         US|   22272389|R3B1NURKMCVAL1|B00LX65PQO|     848850234|Skechers Performa...|           Shoes|          3|            2|          2|   N|                Y|         Three Stars|I like the go wal...| 2015-08-31|\n",
            "|         US|   19584241|R14Q1GZGV10IMX|B00BEE7N3I|     211637196|Hi-Tec Kid's Nepa...|           Shoes|          4|            0|          0|   N|                Y|          Four Stars|Kids love them fo...| 2015-08-31|\n",
            "|         US|   12334573| R9BHBB06QD6TM|B008NCHMBW|     138572112|Foot Sox Original...|           Shoes|          1|            2|          2|   N|                Y|Tissue paper is t...|Tissue paper is t...| 2015-08-31|\n",
            "+-----------+-----------+--------------+----------+--------------+--------------------+----------------+-----------+-------------+-----------+----+-----------------+--------------------+--------------------+-----------+\n",
            "only showing top 20 rows\n",
            "\n"
          ],
          "name": "stdout"
        }
      ]
    },
    {
      "cell_type": "code",
      "metadata": {
        "id": "lzMmkdKmY--D",
        "colab": {
          "base_uri": "https://localhost:8080/"
        },
        "outputId": "03a98c89-0e16-412a-bbb5-1d3e6645154e"
      },
      "source": [
        "# Create the vine_table. DataFrame\n",
        "vine_table_df = df.select([\"review_id\", \"star_rating\", \"helpful_votes\", \"total_votes\", \"vine\", \"verified_purchase\"])\n",
        "vine_table_df.show()"
      ],
      "execution_count": 6,
      "outputs": [
        {
          "output_type": "stream",
          "text": [
            "+--------------+-----------+-------------+-----------+----+-----------------+\n",
            "|     review_id|star_rating|helpful_votes|total_votes|vine|verified_purchase|\n",
            "+--------------+-----------+-------------+-----------+----+-----------------+\n",
            "|R3P2HIOQCIN5ZU|          1|            0|          0|   N|                Y|\n",
            "|R12VVR0WH5Q24V|          5|            0|          0|   N|                Y|\n",
            "| RNCCKB6TV5EEF|          4|            0|          0|   N|                Y|\n",
            "|R2NZXYIVCGB13W|          5|            0|          6|   N|                Y|\n",
            "|R2EQ1TG9IT3OEQ|          3|            0|          0|   N|                Y|\n",
            "|R1WXA9JSC2H1U1|          5|            1|          1|   N|                Y|\n",
            "|R12ENYLFGGNWRV|          5|            1|          1|   N|                Y|\n",
            "|R2R07E5PNXEUO5|          4|            0|          0|   N|                Y|\n",
            "|R27BA52AKWMWN3|          5|            0|          0|   N|                Y|\n",
            "| RLF8DOID2KD5O|          3|            0|          0|   N|                Y|\n",
            "|R369CEXHXHC6NQ|          5|            0|          0|   N|                Y|\n",
            "|R171PPIJXFONVI|          5|            0|          0|   N|                Y|\n",
            "|R2JDNM8F2P06FU|          4|            1|          1|   N|                Y|\n",
            "|R2W977FO4M97XT|          5|            0|          1|   N|                Y|\n",
            "|R3AM24QPLI28UY|          2|            1|          2|   N|                Y|\n",
            "| REDVXSFYVNT5T|          5|            0|          0|   N|                Y|\n",
            "|R14AIIK7D6ENDZ|          5|            0|          0|   N|                Y|\n",
            "|R3B1NURKMCVAL1|          3|            2|          2|   N|                Y|\n",
            "|R14Q1GZGV10IMX|          4|            0|          0|   N|                Y|\n",
            "| R9BHBB06QD6TM|          1|            2|          2|   N|                Y|\n",
            "+--------------+-----------+-------------+-----------+----+-----------------+\n",
            "only showing top 20 rows\n",
            "\n"
          ],
          "name": "stdout"
        }
      ]
    },
    {
      "cell_type": "code",
      "metadata": {
        "colab": {
          "base_uri": "https://localhost:8080/"
        },
        "id": "xFEuc4r2wMwo",
        "outputId": "59a05911-1328-4724-a58a-f1b9958a06cc"
      },
      "source": [
        "# Filter the data and create a new DataFrame or table to retrieve all the rows where the total_votes count \n",
        "# is equal to or greater than 20 to pick reviews that are more likely to be helpful and to avoid having \n",
        "# division by zero errors later on.\n",
        "vine_df = df.select([\"review_id\",\"star_rating\",\"helpful_votes\",\"total_votes\",\"vine\",\"verified_purchase\"])\n",
        "vote_count = df.filter(\"total_votes >= 20\")\n",
        "vote_count.show()"
      ],
      "execution_count": 7,
      "outputs": [
        {
          "output_type": "stream",
          "text": [
            "+-----------+-----------+--------------+----------+--------------+--------------------+----------------+-----------+-------------+-----------+----+-----------------+--------------------+--------------------+-----------+\n",
            "|marketplace|customer_id|     review_id|product_id|product_parent|       product_title|product_category|star_rating|helpful_votes|total_votes|vine|verified_purchase|     review_headline|         review_body|review_date|\n",
            "+-----------+-----------+--------------+----------+--------------+--------------------+----------------+-----------+-------------+-----------+----+-----------------+--------------------+--------------------+-----------+\n",
            "|         US|   52181093|R37F42INKX7L9K|B00TQ6L9TK|     316459194|Travelon Converti...|           Shoes|          5|           45|         49|   N|                Y|Hermione Granger'...|I've been trying ...| 2015-08-31|\n",
            "|         US|   25865070|R2EHKYNEP8WVSR|B00UJ6B33I|     962947795|Hoxis Tassel Faux...|           Shoes|          5|           25|         25|   N|                Y|          Five Stars|Perfect size purs...| 2015-08-31|\n",
            "|         US|   43547721| RXOS7BHID0UHL|B010KK08LU|     128319757|Adidas Yeezy Boos...|           Shoes|          5|           16|         27|   N|                N|Had to sell my do...|I have always wan...| 2015-08-31|\n",
            "|         US|   48198529|R33HHGFPB403GM|B009K1WFAI|     875585913|Gucci GG1008 Eyeg...|           Shoes|          5|           19|         21|   N|                Y|          Five Stars|Love at first sig...| 2015-08-31|\n",
            "|         US|    6650445| RY9O9XNLP464N|B0117P7DV0|     445316900|KENSBUY Men's Lig...|           Shoes|          2|           19|         22|   N|                Y|    Can't Wear These|So small that I c...| 2015-08-31|\n",
            "|         US|   39742745|R2VP11C28JAEZF|B00S8CF9OE|     484693340|Merrell Women's M...|           Shoes|          5|           30|         30|   N|                Y|               Love!|These are minimal...| 2015-08-31|\n",
            "|         US|    3815095|R1TXGR1HA2M3P3|B00FNHMWG0|     853723688|Breckelles Women ...|           Shoes|          5|           28|         29|   N|                Y|I love them. I re...|I love them.<br /...| 2015-08-31|\n",
            "|         US|   51299002| R6OD85TMEMHQQ|B00KZJ0W4K|     813787483|Merrell Women's A...|           Shoes|          5|           28|         28|   N|                Y|Well made, modera...|After literally h...| 2015-08-31|\n",
            "|         US|    4645804|R1G4PAJXP3FTN7|B00LHUF7KA|      72964553|Five Ten Men's Fr...|           Shoes|          2|           43|         51|   N|                Y|Save your money p...|The quality is le...| 2015-08-31|\n",
            "|         US|    4261403|R2P2S8UGUMCOLX|B00WDWHHR2|     485655175|Betsey Johnson Te...|           Shoes|          5|           21|         22|   N|                Y|   I love this purse|I love this purse...| 2015-08-31|\n",
            "|         US|     108480| RBTQKXGJ9RP7C|B00XTNCOFO|     380758921|Micom 2017 Simple...|           Shoes|          1|           33|         33|   N|                Y|This purse should...|Let down!<br />I ...| 2015-08-31|\n",
            "|         US|   14892488|R342L93CXGDZO5|B00ZY3U7SS|      61663457|Franco Sarto Wome...|           Shoes|          2|           73|         76|   N|                Y|           Returning|&#34;Imported&#34...| 2015-08-31|\n",
            "|         US|   12268557|R31Z97KFD4HMNF|B00SK7TJ52|      47177433|Hot Chocolate Des...|           Shoes|          3|           23|         26|   N|                Y|I wish they would...|I bought 2 pair o...| 2015-08-31|\n",
            "|         US|   35626881|R2NDB7EQLYK87A|B00QH47Y34|     316874970|Brooks Womens Gho...|           Shoes|          5|           44|         46|   N|                Y|Not just for runn...|I tend bar and ha...| 2015-08-31|\n",
            "|         US|   51216855|R1C0W0OSBCVXC2|B00SNEQGW6|     182024722|FitFlop Women's S...|           Shoes|          1|           45|         46|   N|                Y|      Not well built|I bought these fl...| 2015-08-31|\n",
            "|         US|   10262456|R154Q41ID7FTFC|B010PC389M|     446355055|Kattee Women's Pu...|           Shoes|          5|           24|         26|   N|                Y|Fabulous silver m...|LOVE this leather...| 2015-08-31|\n",
            "|         US|   42205771|R3GFX9ZNZ0T3TA|B00XGH7SMM|     891843405|Hazel's Star Quad...|           Shoes|          1|           35|         35|   N|                Y|Shoe came apart o...|One shoe fell apa...| 2015-08-31|\n",
            "|         US|    3136659|R2H8MH0N2IZKMY|B00QTD5SQI|     229380469|Inov-8 Men's Terr...|           Shoes|          5|           22|         23|   N|                Y|  Simply the Best!!!|AWESOME shoes. Ra...| 2015-08-31|\n",
            "|         US|    2532037|R1MYE8WQ3812L8|B0014F61LM|     106800701|Kipling Seoul Sol...|           Shoes|          5|           17|         20|   N|                Y|          Five Stars|                null| 2015-08-31|\n",
            "|         US|    1082025| RYSL8MU2858GB|B00QM5BY8O|     377048469|Skechers for Work...|           Shoes|          5|           71|         73|   N|                Y|best nonslip shoe...|I work in a resta...| 2015-08-31|\n",
            "+-----------+-----------+--------------+----------+--------------+--------------------+----------------+-----------+-------------+-----------+----+-----------------+--------------------+--------------------+-----------+\n",
            "only showing top 20 rows\n",
            "\n"
          ],
          "name": "stdout"
        }
      ]
    },
    {
      "cell_type": "code",
      "metadata": {
        "colab": {
          "base_uri": "https://localhost:8080/"
        },
        "id": "Obr0wbMlwHrs",
        "outputId": "c473c5da-502e-4b32-d15b-a6eee83efdd2"
      },
      "source": [
        "# Filter the new DataFrame or table created in Step 1 and create a new DataFrame or table to retrieve all \n",
        "# the rows where the number of helpful_votes divided by total_votes is equal to or greater than 50%.\n",
        "new_table = vote_count.filter(vote_count[\"helpful_votes\"]/vote_count[\"total_votes\"]>=0.5)\n",
        "new_table.show()"
      ],
      "execution_count": 8,
      "outputs": [
        {
          "output_type": "stream",
          "text": [
            "+-----------+-----------+--------------+----------+--------------+--------------------+----------------+-----------+-------------+-----------+----+-----------------+--------------------+--------------------+-----------+\n",
            "|marketplace|customer_id|     review_id|product_id|product_parent|       product_title|product_category|star_rating|helpful_votes|total_votes|vine|verified_purchase|     review_headline|         review_body|review_date|\n",
            "+-----------+-----------+--------------+----------+--------------+--------------------+----------------+-----------+-------------+-----------+----+-----------------+--------------------+--------------------+-----------+\n",
            "|         US|   52181093|R37F42INKX7L9K|B00TQ6L9TK|     316459194|Travelon Converti...|           Shoes|          5|           45|         49|   N|                Y|Hermione Granger'...|I've been trying ...| 2015-08-31|\n",
            "|         US|   25865070|R2EHKYNEP8WVSR|B00UJ6B33I|     962947795|Hoxis Tassel Faux...|           Shoes|          5|           25|         25|   N|                Y|          Five Stars|Perfect size purs...| 2015-08-31|\n",
            "|         US|   43547721| RXOS7BHID0UHL|B010KK08LU|     128319757|Adidas Yeezy Boos...|           Shoes|          5|           16|         27|   N|                N|Had to sell my do...|I have always wan...| 2015-08-31|\n",
            "|         US|   48198529|R33HHGFPB403GM|B009K1WFAI|     875585913|Gucci GG1008 Eyeg...|           Shoes|          5|           19|         21|   N|                Y|          Five Stars|Love at first sig...| 2015-08-31|\n",
            "|         US|    6650445| RY9O9XNLP464N|B0117P7DV0|     445316900|KENSBUY Men's Lig...|           Shoes|          2|           19|         22|   N|                Y|    Can't Wear These|So small that I c...| 2015-08-31|\n",
            "|         US|   39742745|R2VP11C28JAEZF|B00S8CF9OE|     484693340|Merrell Women's M...|           Shoes|          5|           30|         30|   N|                Y|               Love!|These are minimal...| 2015-08-31|\n",
            "|         US|    3815095|R1TXGR1HA2M3P3|B00FNHMWG0|     853723688|Breckelles Women ...|           Shoes|          5|           28|         29|   N|                Y|I love them. I re...|I love them.<br /...| 2015-08-31|\n",
            "|         US|   51299002| R6OD85TMEMHQQ|B00KZJ0W4K|     813787483|Merrell Women's A...|           Shoes|          5|           28|         28|   N|                Y|Well made, modera...|After literally h...| 2015-08-31|\n",
            "|         US|    4645804|R1G4PAJXP3FTN7|B00LHUF7KA|      72964553|Five Ten Men's Fr...|           Shoes|          2|           43|         51|   N|                Y|Save your money p...|The quality is le...| 2015-08-31|\n",
            "|         US|    4261403|R2P2S8UGUMCOLX|B00WDWHHR2|     485655175|Betsey Johnson Te...|           Shoes|          5|           21|         22|   N|                Y|   I love this purse|I love this purse...| 2015-08-31|\n",
            "|         US|     108480| RBTQKXGJ9RP7C|B00XTNCOFO|     380758921|Micom 2017 Simple...|           Shoes|          1|           33|         33|   N|                Y|This purse should...|Let down!<br />I ...| 2015-08-31|\n",
            "|         US|   14892488|R342L93CXGDZO5|B00ZY3U7SS|      61663457|Franco Sarto Wome...|           Shoes|          2|           73|         76|   N|                Y|           Returning|&#34;Imported&#34...| 2015-08-31|\n",
            "|         US|   12268557|R31Z97KFD4HMNF|B00SK7TJ52|      47177433|Hot Chocolate Des...|           Shoes|          3|           23|         26|   N|                Y|I wish they would...|I bought 2 pair o...| 2015-08-31|\n",
            "|         US|   35626881|R2NDB7EQLYK87A|B00QH47Y34|     316874970|Brooks Womens Gho...|           Shoes|          5|           44|         46|   N|                Y|Not just for runn...|I tend bar and ha...| 2015-08-31|\n",
            "|         US|   51216855|R1C0W0OSBCVXC2|B00SNEQGW6|     182024722|FitFlop Women's S...|           Shoes|          1|           45|         46|   N|                Y|      Not well built|I bought these fl...| 2015-08-31|\n",
            "|         US|   10262456|R154Q41ID7FTFC|B010PC389M|     446355055|Kattee Women's Pu...|           Shoes|          5|           24|         26|   N|                Y|Fabulous silver m...|LOVE this leather...| 2015-08-31|\n",
            "|         US|   42205771|R3GFX9ZNZ0T3TA|B00XGH7SMM|     891843405|Hazel's Star Quad...|           Shoes|          1|           35|         35|   N|                Y|Shoe came apart o...|One shoe fell apa...| 2015-08-31|\n",
            "|         US|    3136659|R2H8MH0N2IZKMY|B00QTD5SQI|     229380469|Inov-8 Men's Terr...|           Shoes|          5|           22|         23|   N|                Y|  Simply the Best!!!|AWESOME shoes. Ra...| 2015-08-31|\n",
            "|         US|    2532037|R1MYE8WQ3812L8|B0014F61LM|     106800701|Kipling Seoul Sol...|           Shoes|          5|           17|         20|   N|                Y|          Five Stars|                null| 2015-08-31|\n",
            "|         US|    1082025| RYSL8MU2858GB|B00QM5BY8O|     377048469|Skechers for Work...|           Shoes|          5|           71|         73|   N|                Y|best nonslip shoe...|I work in a resta...| 2015-08-31|\n",
            "+-----------+-----------+--------------+----------+--------------+--------------------+----------------+-----------+-------------+-----------+----+-----------------+--------------------+--------------------+-----------+\n",
            "only showing top 20 rows\n",
            "\n"
          ],
          "name": "stdout"
        }
      ]
    },
    {
      "cell_type": "code",
      "metadata": {
        "colab": {
          "base_uri": "https://localhost:8080/"
        },
        "id": "IaprP3LCxGv8",
        "outputId": "aaf7848c-7f9f-4b15-9c2a-c1186821ce58"
      },
      "source": [
        "# Filter the DataFrame or table created in Step 2, and create a new DataFrame or table that retrieves all \n",
        "# the rows where a review was written as part of the Vine program (paid), vine == 'Y'.\n",
        "new_table.filter(new_table[\"vine\"] == \"Y\").show()"
      ],
      "execution_count": 9,
      "outputs": [
        {
          "output_type": "stream",
          "text": [
            "+-----------+-----------+--------------+----------+--------------+--------------------+----------------+-----------+-------------+-----------+----+-----------------+--------------------+--------------------+-----------+\n",
            "|marketplace|customer_id|     review_id|product_id|product_parent|       product_title|product_category|star_rating|helpful_votes|total_votes|vine|verified_purchase|     review_headline|         review_body|review_date|\n",
            "+-----------+-----------+--------------+----------+--------------+--------------------+----------------+-----------+-------------+-----------+----+-----------------+--------------------+--------------------+-----------+\n",
            "|         US|   17481726|R2N45ZKRRZS856|B00R9LA030|     587914328|New Balance Women...|           Shoes|          5|           21|         22|   Y|                N|Lightweight, Plen...|* While I've got ...| 2015-07-19|\n",
            "|         US|   34395794| R5OMLMK13A8NS|B00R9LA030|     587914328|New Balance Women...|           Shoes|          5|           34|         38|   Y|                N|Light, super-comf...|I am an inveterat...| 2015-07-13|\n",
            "|         US|   20151467|R2MPEQ4SPTEQNS|B00M15DG80|     638946346|Timberland Advent...|           Shoes|          4|          180|        184|   Y|                N|Good middle groun...|This is a pre-sum...| 2015-03-07|\n",
            "|         US|   51744990| RIR0D3KJ0CQ31|B00KQ2VQDC|     646945894|New Balance Women...|           Shoes|          4|           21|         21|   Y|                N|Very Good Neutral...|I am a long-time ...| 2015-02-07|\n",
            "|         US|   21155796|R1SPWJDHUWWC5E|B00LNN1EZ8|     257160693|New Balance Women...|           Shoes|          5|           88|         98|   Y|                N|NB Trainers desig...|These trainers ar...| 2015-02-06|\n",
            "|         US|   34030399|R1X6M5XA3FT98W|B00KQ57KWK|     615890400|New Balance Women...|           Shoes|          5|           24|         26|   Y|                N|Review from an ac...|I received a comp...| 2015-02-04|\n",
            "|         US|   52807614|R37VCW6HA0Z72T|B00NHUVTPA|     446678543|Foster Grant Zera...|           Shoes|          5|           27|         28|   Y|                N|New favorite read...|My wife likes to ...| 2015-01-31|\n",
            "|         US|   47694591|R2XRYNV2SY3ZKL|B00NHUW1NE|     789124161|Foster Grant Char...|           Shoes|          5|           53|         56|   Y|                N|I Can Not Pry The...|I opened up the p...| 2015-01-27|\n",
            "|         US|   45889291|R1Y93KWKAX1P5N|B00NHUVN10|     733135792|Foster Grant Sawy...|           Shoes|          2|           26|         31|   Y|                N|Same deal as othe...|I'm 47, and until...| 2015-01-23|\n",
            "|         US|   52195752|R2QVTDYYLTP8SL|B00NHUVFGS|     221663141|Foster Grant Cona...|           Shoes|          5|           21|         24|   Y|                N|        I Love These|Having recently l...| 2015-01-23|\n",
            "|         US|   50909644|R3KOK2SH39BZU1|B00NHUVF18|     221663141|Foster Grant Cona...|           Shoes|          3|           94|         96|   Y|                N|Non prescription ...|I have a desk fil...| 2015-01-23|\n",
            "|         US|   52464466|R2VOM73EHLPXJW|B00NHUVFGS|     221663141|Foster Grant Cona...|           Shoes|          4|           35|         38|   Y|                N|Surprisingly nice...|These are surpris...| 2015-01-22|\n",
            "|         US|   38066245|R3SEZS7BZEC69Y|B00NHUVTSM|     446678543|Foster Grant Zera...|           Shoes|          5|           16|         20|   Y|                N|These work as goo...|I was very surpri...| 2015-01-21|\n",
            "|         US|   33172089|R1MJ5J272V19O6|B00NHUW1UW|     789124161|Foster Grant Char...|           Shoes|          4|           49|         51|   Y|                N|Be aware of the l...|Okay. I know. Yes...| 2015-01-21|\n",
            "|         US|   50892063|R3A7BQX1JDKOM5|B00NHUV8SI|     968516609|Foster Grant Wes ...|           Shoes|          4|           20|         20|   Y|                N|My prescription g...|I've been looking...| 2015-01-18|\n",
            "|         US|   52637443|R1307JMPUEQXOW|B00M32FLL6|     329154367|Mizuno Women's Wa...|           Shoes|          5|           31|         35|   Y|                N|Great Shoes- but ...|These are great s...| 2014-12-27|\n",
            "|         US|   53058739| RXV0SDXE5B15T|B00IF3BG6G|     978028219|Cole Haan Women's...|           Shoes|          2|           39|         42|   Y|                N|Should have bette...|First the good: T...| 2014-12-09|\n",
            "|         US|   50145419| RBMDYE7LUH9FI|B00D8HXHYI|      82299308|New Balance Women...|           Shoes|          5|           26|         32|   Y|                N|An eye catching s...|I'm in so love wi...| 2014-07-15|\n",
            "|         US|   13303929|R1N4W961QV59BV|B00DOE9QFY|     877581216|New Balance Women...|           Shoes|          5|           25|         34|   Y|                N|A review from Boo...|The first thing t...| 2014-07-01|\n",
            "|         US|   50828717|R11XKHFS4KQS3Z|B00DOEA73O|     877581216|New Balance Women...|           Shoes|          4|          205|        211|   Y|                N|Nice style but to...|I am a fan of New...| 2014-06-30|\n",
            "+-----------+-----------+--------------+----------+--------------+--------------------+----------------+-----------+-------------+-----------+----+-----------------+--------------------+--------------------+-----------+\n",
            "only showing top 20 rows\n",
            "\n"
          ],
          "name": "stdout"
        }
      ]
    },
    {
      "cell_type": "code",
      "metadata": {
        "colab": {
          "base_uri": "https://localhost:8080/"
        },
        "id": "0fK8GXmOxKKV",
        "outputId": "005102aa-04aa-408a-d6ce-05c264ba27b3"
      },
      "source": [
        "# Repeat Step 3, but this time retrieve all the rows where the review was not part of the Vine program \n",
        "# (unpaid), vine == 'N'.\n",
        "new_table.filter(new_table[\"vine\"] == \"N\").show()"
      ],
      "execution_count": 10,
      "outputs": [
        {
          "output_type": "stream",
          "text": [
            "+-----------+-----------+--------------+----------+--------------+--------------------+----------------+-----------+-------------+-----------+----+-----------------+--------------------+--------------------+-----------+\n",
            "|marketplace|customer_id|     review_id|product_id|product_parent|       product_title|product_category|star_rating|helpful_votes|total_votes|vine|verified_purchase|     review_headline|         review_body|review_date|\n",
            "+-----------+-----------+--------------+----------+--------------+--------------------+----------------+-----------+-------------+-----------+----+-----------------+--------------------+--------------------+-----------+\n",
            "|         US|   52181093|R37F42INKX7L9K|B00TQ6L9TK|     316459194|Travelon Converti...|           Shoes|          5|           45|         49|   N|                Y|Hermione Granger'...|I've been trying ...| 2015-08-31|\n",
            "|         US|   25865070|R2EHKYNEP8WVSR|B00UJ6B33I|     962947795|Hoxis Tassel Faux...|           Shoes|          5|           25|         25|   N|                Y|          Five Stars|Perfect size purs...| 2015-08-31|\n",
            "|         US|   43547721| RXOS7BHID0UHL|B010KK08LU|     128319757|Adidas Yeezy Boos...|           Shoes|          5|           16|         27|   N|                N|Had to sell my do...|I have always wan...| 2015-08-31|\n",
            "|         US|   48198529|R33HHGFPB403GM|B009K1WFAI|     875585913|Gucci GG1008 Eyeg...|           Shoes|          5|           19|         21|   N|                Y|          Five Stars|Love at first sig...| 2015-08-31|\n",
            "|         US|    6650445| RY9O9XNLP464N|B0117P7DV0|     445316900|KENSBUY Men's Lig...|           Shoes|          2|           19|         22|   N|                Y|    Can't Wear These|So small that I c...| 2015-08-31|\n",
            "|         US|   39742745|R2VP11C28JAEZF|B00S8CF9OE|     484693340|Merrell Women's M...|           Shoes|          5|           30|         30|   N|                Y|               Love!|These are minimal...| 2015-08-31|\n",
            "|         US|    3815095|R1TXGR1HA2M3P3|B00FNHMWG0|     853723688|Breckelles Women ...|           Shoes|          5|           28|         29|   N|                Y|I love them. I re...|I love them.<br /...| 2015-08-31|\n",
            "|         US|   51299002| R6OD85TMEMHQQ|B00KZJ0W4K|     813787483|Merrell Women's A...|           Shoes|          5|           28|         28|   N|                Y|Well made, modera...|After literally h...| 2015-08-31|\n",
            "|         US|    4645804|R1G4PAJXP3FTN7|B00LHUF7KA|      72964553|Five Ten Men's Fr...|           Shoes|          2|           43|         51|   N|                Y|Save your money p...|The quality is le...| 2015-08-31|\n",
            "|         US|    4261403|R2P2S8UGUMCOLX|B00WDWHHR2|     485655175|Betsey Johnson Te...|           Shoes|          5|           21|         22|   N|                Y|   I love this purse|I love this purse...| 2015-08-31|\n",
            "|         US|     108480| RBTQKXGJ9RP7C|B00XTNCOFO|     380758921|Micom 2017 Simple...|           Shoes|          1|           33|         33|   N|                Y|This purse should...|Let down!<br />I ...| 2015-08-31|\n",
            "|         US|   14892488|R342L93CXGDZO5|B00ZY3U7SS|      61663457|Franco Sarto Wome...|           Shoes|          2|           73|         76|   N|                Y|           Returning|&#34;Imported&#34...| 2015-08-31|\n",
            "|         US|   12268557|R31Z97KFD4HMNF|B00SK7TJ52|      47177433|Hot Chocolate Des...|           Shoes|          3|           23|         26|   N|                Y|I wish they would...|I bought 2 pair o...| 2015-08-31|\n",
            "|         US|   35626881|R2NDB7EQLYK87A|B00QH47Y34|     316874970|Brooks Womens Gho...|           Shoes|          5|           44|         46|   N|                Y|Not just for runn...|I tend bar and ha...| 2015-08-31|\n",
            "|         US|   51216855|R1C0W0OSBCVXC2|B00SNEQGW6|     182024722|FitFlop Women's S...|           Shoes|          1|           45|         46|   N|                Y|      Not well built|I bought these fl...| 2015-08-31|\n",
            "|         US|   10262456|R154Q41ID7FTFC|B010PC389M|     446355055|Kattee Women's Pu...|           Shoes|          5|           24|         26|   N|                Y|Fabulous silver m...|LOVE this leather...| 2015-08-31|\n",
            "|         US|   42205771|R3GFX9ZNZ0T3TA|B00XGH7SMM|     891843405|Hazel's Star Quad...|           Shoes|          1|           35|         35|   N|                Y|Shoe came apart o...|One shoe fell apa...| 2015-08-31|\n",
            "|         US|    3136659|R2H8MH0N2IZKMY|B00QTD5SQI|     229380469|Inov-8 Men's Terr...|           Shoes|          5|           22|         23|   N|                Y|  Simply the Best!!!|AWESOME shoes. Ra...| 2015-08-31|\n",
            "|         US|    2532037|R1MYE8WQ3812L8|B0014F61LM|     106800701|Kipling Seoul Sol...|           Shoes|          5|           17|         20|   N|                Y|          Five Stars|                null| 2015-08-31|\n",
            "|         US|    1082025| RYSL8MU2858GB|B00QM5BY8O|     377048469|Skechers for Work...|           Shoes|          5|           71|         73|   N|                Y|best nonslip shoe...|I work in a resta...| 2015-08-31|\n",
            "+-----------+-----------+--------------+----------+--------------+--------------------+----------------+-----------+-------------+-----------+----+-----------------+--------------------+--------------------+-----------+\n",
            "only showing top 20 rows\n",
            "\n"
          ],
          "name": "stdout"
        }
      ]
    },
    {
      "cell_type": "code",
      "metadata": {
        "colab": {
          "base_uri": "https://localhost:8080/"
        },
        "id": "i4SnccTOKjW_",
        "outputId": "db6bcefc-0ebe-4e51-9110-72a06d59da42"
      },
      "source": [
        "# Retrieve and count all the rows where the review was not part of the Vine program \n",
        "# (unpaid), vine == 'N'.\n",
        "new_table.filter(new_table[\"vine\"] == \"N\").count()"
      ],
      "execution_count": 11,
      "outputs": [
        {
          "output_type": "execute_result",
          "data": {
            "text/plain": [
              "26987"
            ]
          },
          "metadata": {
            "tags": []
          },
          "execution_count": 11
        }
      ]
    },
    {
      "cell_type": "code",
      "metadata": {
        "colab": {
          "base_uri": "https://localhost:8080/"
        },
        "id": "uHOsp43pLe49",
        "outputId": "eabe1da2-13b2-4ad7-8515-e591a248035b"
      },
      "source": [
        "# Retrieve and count all the rows where the review was part of the Vine program \n",
        "# (paid), vine == 'Y'.\n",
        "new_table.filter(new_table[\"vine\"] == \"Y\").count()"
      ],
      "execution_count": 12,
      "outputs": [
        {
          "output_type": "execute_result",
          "data": {
            "text/plain": [
              "22"
            ]
          },
          "metadata": {
            "tags": []
          },
          "execution_count": 12
        }
      ]
    },
    {
      "cell_type": "code",
      "metadata": {
        "colab": {
          "base_uri": "https://localhost:8080/"
        },
        "id": "EhtkNqA3xQMU",
        "outputId": "1656d208-caca-4f32-959e-ac25f948aca0"
      },
      "source": [
        "# Determine the total number of reviews, the number of 5-star reviews, and the percentage of 5-star reviews \n",
        "# for the two types of review (paid vs unpaid).\n",
        "five_star = new_table.filter(new_table[\"star_rating\"]== 5)\n",
        "five_star.cache()\n",
        "five_star.count()"
      ],
      "execution_count": 13,
      "outputs": [
        {
          "output_type": "execute_result",
          "data": {
            "text/plain": [
              "14488"
            ]
          },
          "metadata": {
            "tags": []
          },
          "execution_count": 13
        }
      ]
    },
    {
      "cell_type": "code",
      "metadata": {
        "colab": {
          "base_uri": "https://localhost:8080/"
        },
        "id": "Jb1o60oVyU65",
        "outputId": "0423e8e3-75c7-4645-96b5-6e1dd1bdee64"
      },
      "source": [
        "#total reviews\n",
        "new_table.count()"
      ],
      "execution_count": 14,
      "outputs": [
        {
          "output_type": "execute_result",
          "data": {
            "text/plain": [
              "27009"
            ]
          },
          "metadata": {
            "tags": []
          },
          "execution_count": 14
        }
      ]
    },
    {
      "cell_type": "code",
      "metadata": {
        "colab": {
          "base_uri": "https://localhost:8080/"
        },
        "id": "Fp6BIwUsPiuL",
        "outputId": "7a201f46-91db-4c8d-d772-502411df1334"
      },
      "source": [
        "# Retrieve and count all the rows where the 5 star review was part of the Vine program \n",
        "# (paid), vine == 'Y'.\n",
        "five_star.filter(five_star[\"vine\"] == \"Y\").count()"
      ],
      "execution_count": 15,
      "outputs": [
        {
          "output_type": "execute_result",
          "data": {
            "text/plain": [
              "13"
            ]
          },
          "metadata": {
            "tags": []
          },
          "execution_count": 15
        }
      ]
    },
    {
      "cell_type": "code",
      "metadata": {
        "colab": {
          "base_uri": "https://localhost:8080/"
        },
        "id": "ouWCaFBLPs-h",
        "outputId": "6dd2953b-9e5b-43c5-a775-902591d9a5f3"
      },
      "source": [
        "# Retrieve and count all the rows where the 5 star review was not part of the Vine program \n",
        "# (paid), vine == 'Y'.\n",
        "five_star.filter(five_star[\"vine\"] == \"N\").count()"
      ],
      "execution_count": 16,
      "outputs": [
        {
          "output_type": "execute_result",
          "data": {
            "text/plain": [
              "14475"
            ]
          },
          "metadata": {
            "tags": []
          },
          "execution_count": 16
        }
      ]
    },
    {
      "cell_type": "code",
      "metadata": {
        "colab": {
          "base_uri": "https://localhost:8080/"
        },
        "id": "2iluGnTCyby3",
        "outputId": "0e8a0280-dbe5-4efd-f483-53b3e4225def"
      },
      "source": [
        "#percentage of five star reviews\n",
        "five_star.count() / new_table.count()"
      ],
      "execution_count": 17,
      "outputs": [
        {
          "output_type": "execute_result",
          "data": {
            "text/plain": [
              "0.5364137879965938"
            ]
          },
          "metadata": {
            "tags": []
          },
          "execution_count": 17
        }
      ]
    },
    {
      "cell_type": "code",
      "metadata": {
        "colab": {
          "base_uri": "https://localhost:8080/"
        },
        "id": "kO7XLrnCyfVP",
        "outputId": "de9d4d55-4a8a-4d3b-f9cd-7115b6c5a1cc"
      },
      "source": [
        "#percentage of paid reviews\n",
        "five_star.filter(five_star[\"vine\"] == \"Y\").count()/new_table.filter(new_table[\"vine\"]== \"Y\").count()"
      ],
      "execution_count": 20,
      "outputs": [
        {
          "output_type": "execute_result",
          "data": {
            "text/plain": [
              "0.5909090909090909"
            ]
          },
          "metadata": {
            "tags": []
          },
          "execution_count": 20
        }
      ]
    },
    {
      "cell_type": "code",
      "metadata": {
        "colab": {
          "base_uri": "https://localhost:8080/"
        },
        "id": "BbF3O5x7yjN8",
        "outputId": "b25cc84c-5abc-4a3b-9256-9fc1c2de1a09"
      },
      "source": [
        "#percentage of unpaid reviews\n",
        "five_star.filter(five_star[\"vine\"] == \"N\").count()/new_table.filter(new_table[\"vine\"]== \"N\").count()"
      ],
      "execution_count": 21,
      "outputs": [
        {
          "output_type": "execute_result",
          "data": {
            "text/plain": [
              "0.5363693630266425"
            ]
          },
          "metadata": {
            "tags": []
          },
          "execution_count": 21
        }
      ]
    }
  ]
}